{
  "nbformat": 4,
  "nbformat_minor": 0,
  "metadata": {
    "colab": {
      "name": "simple_nn.ipynb",
      "version": "0.3.2",
      "provenance": [],
      "collapsed_sections": []
    },
    "kernelspec": {
      "display_name": "Python 3",
      "language": "python",
      "name": "python3"
    },
    "accelerator": "GPU"
  },
  "cells": [
    {
      "metadata": {
        "id": "iD2cHiqbXNDv",
        "colab_type": "code",
        "colab": {
          "base_uri": "https://localhost:8080/",
          "height": 53
        },
        "outputId": "9c627a03-9d92-45fe-b79a-d7eede99b225"
      },
      "cell_type": "code",
      "source": [
        "!wget http://t.dripemail2.com/c/eyJhY2NvdW50X2lkIjoiNDc2ODQyOSIsImRlbGl2ZXJ5X2lkIjoiMzY2MDc5MDY4MSIsInVybCI6Imh0dHA6Ly9weWltZy5jby9tYnZkaz9fX3M9aGhvaXpqZ2dlcXpwM2N3Z3FpanYifQ"
      ],
      "execution_count": 53,
      "outputs": [
        {
          "output_type": "stream",
          "text": [
            "\n",
            "Redirecting output to ‘wget-log.1’.\n"
          ],
          "name": "stdout"
        }
      ]
    },
    {
      "metadata": {
        "id": "LqyjsUMaXW8E",
        "colab_type": "code",
        "colab": {
          "base_uri": "https://localhost:8080/",
          "height": 53
        },
        "outputId": "02b6d3f8-c4d7-4a02-fd19-a54149d8a496"
      },
      "cell_type": "code",
      "source": [
        "!unzip eyJhY2NvdW50X2lkIjoiNDc2ODQyOSIsImRlbGl2ZXJ5X2lkIjoiMzY2MDc5MDY4MSIsInVybCI6Imh0dHA6Ly9weWltZy5jby9tYnZkaz9fX3M9aGhvaXpqZ2dlcXpwM2N3Z3FpanYifQ"
      ],
      "execution_count": 54,
      "outputs": [
        {
          "output_type": "stream",
          "text": [
            "Archive:  eyJhY2NvdW50X2lkIjoiNDc2ODQyOSIsImRlbGl2ZXJ5X2lkIjoiMzY2MDc5MDY4MSIsInVybCI6Imh0dHA6Ly9weWltZy5jby9tYnZkaz9fX3M9aGhvaXpqZ2dlcXpwM2N3Z3FpanYifQ\n",
            "replace keras-tutorial/animals/cats/cats_00001.jpg? [y]es, [n]o, [A]ll, [N]one, [r]ename: "
          ],
          "name": "stdout"
        }
      ]
    },
    {
      "metadata": {
        "id": "hZTRFsNrW4VK",
        "colab_type": "code",
        "colab": {}
      },
      "cell_type": "code",
      "source": [
        "import matplotlib \n",
        "from sklearn.preprocessing import LabelBinarizer\n",
        "from sklearn.model_selection import train_test_split\n",
        "from sklearn.metrics import classification_report\n",
        "from keras.models import Sequential\n",
        "from keras.layers.core import Dense\n",
        "from keras.layers.core import Dropout\n",
        "from keras.optimizers import SGD\n",
        "from keras import regularizers\n",
        "import matplotlib.pyplot as plt\n",
        "import numpy as np\n",
        "import random\n",
        "import pickle\n",
        "import cv2\n",
        "import os\n",
        "import glob\n",
        "%matplotlib inline "
      ],
      "execution_count": 0,
      "outputs": []
    },
    {
      "metadata": {
        "id": "MUoYvx2MW4VP",
        "colab_type": "code",
        "colab": {}
      },
      "cell_type": "code",
      "source": [
        "data_path = '/content/keras-tutorial/animals/*'"
      ],
      "execution_count": 0,
      "outputs": []
    },
    {
      "metadata": {
        "id": "8thOgbTdW4VT",
        "colab_type": "text"
      },
      "cell_type": "markdown",
      "source": [
        "## Loading the dataset\n",
        "<ul>\n",
        "    <li>Load images into <code>data</code></li>\n",
        "    <li>Load labels into <code>labels</code></li>\n",
        "</ul>"
      ]
    },
    {
      "metadata": {
        "id": "pISx1at3W4VT",
        "colab_type": "code",
        "colab": {
          "base_uri": "https://localhost:8080/",
          "height": 35
        },
        "outputId": "1b9c21ca-17ff-4c1d-bc3c-60049c933ada"
      },
      "cell_type": "code",
      "source": [
        "data = []\n",
        "labels = []\n",
        "\n",
        "paths = glob.glob(data_path)\n",
        "image_paths = []\n",
        "\n",
        "random.seed(42)\n",
        "\n",
        "for path in paths:\n",
        "    sub_paths = glob.glob(os.path.sep.join([path, '*']))\n",
        "    for i in sub_paths:\n",
        "        image_paths.append(i)\n",
        "\n",
        "print(os.path.exists(data_path))\n",
        "random.shuffle(image_paths)\n",
        "\n",
        "for path in image_paths:\n",
        "    image = cv2.imread(path)\n",
        "    image = cv2.resize(image, (64, 64)).flatten()\n",
        "    data.append(image)\n",
        "    \n",
        "    label = path.split(os.path.sep)[-2]\n",
        "    labels.append(label)\n",
        "\n",
        "data = np.array(data, dtype = np.float64) / 255\n",
        "labels = np.array(labels)"
      ],
      "execution_count": 58,
      "outputs": [
        {
          "output_type": "stream",
          "text": [
            "False\n"
          ],
          "name": "stdout"
        }
      ]
    },
    {
      "metadata": {
        "id": "89LFJpclW4VW",
        "colab_type": "code",
        "colab": {}
      },
      "cell_type": "code",
      "source": [
        "(trainX, testX, trainY, testY) = train_test_split(data, labels, test_size=0.25, random_state=42)"
      ],
      "execution_count": 0,
      "outputs": []
    },
    {
      "metadata": {
        "id": "aC5nvJBVW4VZ",
        "colab_type": "code",
        "colab": {}
      },
      "cell_type": "code",
      "source": [
        "lb = LabelBinarizer()\n",
        "trainY = lb.fit_transform(trainY)\n",
        "testY = lb.transform(testY)"
      ],
      "execution_count": 0,
      "outputs": []
    },
    {
      "metadata": {
        "id": "uAMjSwuGW4Vd",
        "colab_type": "code",
        "colab": {}
      },
      "cell_type": "code",
      "source": [
        "model = Sequential()\n",
        "model.add(Dense(1024, input_shape = (4096 * 3,), activation = 'sigmoid'))\n",
        "model.add(Dense(512, activation = 'sigmoid'))\n",
        "model.add(Dense(len(lb.classes_), activation = 'softmax'))"
      ],
      "execution_count": 0,
      "outputs": []
    },
    {
      "metadata": {
        "id": "a_qVs3qEW4Vg",
        "colab_type": "code",
        "colab": {}
      },
      "cell_type": "code",
      "source": [
        "INIT_LR = 0.01\n",
        "epochs = 100\n",
        "\n",
        "opt = SGD(lr=INIT_LR)\n",
        "model.compile(loss=\"categorical_crossentropy\", optimizer=opt, metrics=[\"accuracy\"])"
      ],
      "execution_count": 0,
      "outputs": []
    },
    {
      "metadata": {
        "id": "yfmaq2qkW4Vk",
        "colab_type": "code",
        "colab": {
          "base_uri": "https://localhost:8080/",
          "height": 3635
        },
        "outputId": "aba43e89-a2a8-4a05-82bc-c0708489e9a3"
      },
      "cell_type": "code",
      "source": [
        "H = model.fit(trainX, trainY, validation_data = (testX, testY), epochs = epochs, batch_size = 32)"
      ],
      "execution_count": 63,
      "outputs": [
        {
          "output_type": "stream",
          "text": [
            "Train on 2250 samples, validate on 750 samples\n",
            "Epoch 1/100\n",
            "2250/2250 [==============================] - 1s 660us/step - loss: 1.0816 - acc: 0.4031 - val_loss: 1.1071 - val_acc: 0.3147\n",
            "Epoch 2/100\n",
            "2250/2250 [==============================] - 1s 431us/step - loss: 1.0348 - acc: 0.4711 - val_loss: 1.0232 - val_acc: 0.5013\n",
            "Epoch 3/100\n",
            "2250/2250 [==============================] - 1s 433us/step - loss: 0.9965 - acc: 0.5067 - val_loss: 0.9959 - val_acc: 0.5013\n",
            "Epoch 4/100\n",
            "2250/2250 [==============================] - 1s 430us/step - loss: 0.9692 - acc: 0.5196 - val_loss: 0.9859 - val_acc: 0.4707\n",
            "Epoch 5/100\n",
            "2250/2250 [==============================] - 1s 439us/step - loss: 0.9371 - acc: 0.5444 - val_loss: 0.9788 - val_acc: 0.4800\n",
            "Epoch 6/100\n",
            "2250/2250 [==============================] - 1s 435us/step - loss: 0.9192 - acc: 0.5356 - val_loss: 1.0025 - val_acc: 0.4613\n",
            "Epoch 7/100\n",
            "2250/2250 [==============================] - 1s 433us/step - loss: 0.9025 - acc: 0.5453 - val_loss: 0.9794 - val_acc: 0.5253\n",
            "Epoch 8/100\n",
            "2250/2250 [==============================] - 1s 439us/step - loss: 0.8875 - acc: 0.5467 - val_loss: 0.9228 - val_acc: 0.5067\n",
            "Epoch 9/100\n",
            "2250/2250 [==============================] - 1s 430us/step - loss: 0.8738 - acc: 0.5511 - val_loss: 0.9598 - val_acc: 0.4840\n",
            "Epoch 10/100\n",
            "2250/2250 [==============================] - 1s 434us/step - loss: 0.8653 - acc: 0.5569 - val_loss: 0.8972 - val_acc: 0.5467\n",
            "Epoch 11/100\n",
            "2250/2250 [==============================] - 1s 435us/step - loss: 0.8567 - acc: 0.5662 - val_loss: 0.8871 - val_acc: 0.5573\n",
            "Epoch 12/100\n",
            "2250/2250 [==============================] - 1s 438us/step - loss: 0.8476 - acc: 0.5662 - val_loss: 0.9043 - val_acc: 0.5360\n",
            "Epoch 13/100\n",
            "2250/2250 [==============================] - 1s 435us/step - loss: 0.8367 - acc: 0.5822 - val_loss: 0.8721 - val_acc: 0.5827\n",
            "Epoch 14/100\n",
            "2250/2250 [==============================] - 1s 437us/step - loss: 0.8386 - acc: 0.5756 - val_loss: 0.8774 - val_acc: 0.5427\n",
            "Epoch 15/100\n",
            "2250/2250 [==============================] - 1s 435us/step - loss: 0.8356 - acc: 0.5618 - val_loss: 0.9829 - val_acc: 0.5053\n",
            "Epoch 16/100\n",
            "2250/2250 [==============================] - 1s 438us/step - loss: 0.8261 - acc: 0.5804 - val_loss: 0.9487 - val_acc: 0.5000\n",
            "Epoch 17/100\n",
            "2250/2250 [==============================] - 1s 428us/step - loss: 0.8191 - acc: 0.5787 - val_loss: 0.8860 - val_acc: 0.5200\n",
            "Epoch 18/100\n",
            "2250/2250 [==============================] - 1s 430us/step - loss: 0.8134 - acc: 0.5836 - val_loss: 0.9101 - val_acc: 0.5013\n",
            "Epoch 19/100\n",
            "2250/2250 [==============================] - 1s 431us/step - loss: 0.8070 - acc: 0.5907 - val_loss: 0.8603 - val_acc: 0.5813\n",
            "Epoch 20/100\n",
            "2250/2250 [==============================] - 1s 430us/step - loss: 0.8065 - acc: 0.5933 - val_loss: 0.8753 - val_acc: 0.5827\n",
            "Epoch 21/100\n",
            "2250/2250 [==============================] - 1s 429us/step - loss: 0.8088 - acc: 0.5849 - val_loss: 0.9285 - val_acc: 0.5067\n",
            "Epoch 22/100\n",
            "2250/2250 [==============================] - 1s 432us/step - loss: 0.8079 - acc: 0.5907 - val_loss: 0.8778 - val_acc: 0.5413\n",
            "Epoch 23/100\n",
            "2250/2250 [==============================] - 1s 422us/step - loss: 0.8049 - acc: 0.5844 - val_loss: 0.8733 - val_acc: 0.5573\n",
            "Epoch 24/100\n",
            "2250/2250 [==============================] - 1s 437us/step - loss: 0.7913 - acc: 0.5960 - val_loss: 0.8656 - val_acc: 0.5587\n",
            "Epoch 25/100\n",
            "2250/2250 [==============================] - 1s 427us/step - loss: 0.7951 - acc: 0.6009 - val_loss: 0.8665 - val_acc: 0.5547\n",
            "Epoch 26/100\n",
            "2250/2250 [==============================] - 1s 432us/step - loss: 0.7851 - acc: 0.6018 - val_loss: 0.9515 - val_acc: 0.5067\n",
            "Epoch 27/100\n",
            "2250/2250 [==============================] - 1s 429us/step - loss: 0.7860 - acc: 0.6107 - val_loss: 0.9098 - val_acc: 0.5040\n",
            "Epoch 28/100\n",
            "2250/2250 [==============================] - 1s 432us/step - loss: 0.7840 - acc: 0.6027 - val_loss: 0.8756 - val_acc: 0.5453\n",
            "Epoch 29/100\n",
            "2250/2250 [==============================] - 1s 432us/step - loss: 0.7797 - acc: 0.6111 - val_loss: 0.8708 - val_acc: 0.5827\n",
            "Epoch 30/100\n",
            "2250/2250 [==============================] - 1s 435us/step - loss: 0.7717 - acc: 0.6196 - val_loss: 0.8826 - val_acc: 0.5467\n",
            "Epoch 31/100\n",
            "2250/2250 [==============================] - 1s 434us/step - loss: 0.7718 - acc: 0.6129 - val_loss: 0.8685 - val_acc: 0.5480\n",
            "Epoch 32/100\n",
            "2250/2250 [==============================] - 1s 430us/step - loss: 0.7700 - acc: 0.6138 - val_loss: 0.8611 - val_acc: 0.5707\n",
            "Epoch 33/100\n",
            "2250/2250 [==============================] - 1s 432us/step - loss: 0.7729 - acc: 0.6084 - val_loss: 0.9077 - val_acc: 0.5253\n",
            "Epoch 34/100\n",
            "2250/2250 [==============================] - 1s 426us/step - loss: 0.7624 - acc: 0.6249 - val_loss: 0.8989 - val_acc: 0.5187\n",
            "Epoch 35/100\n",
            "2250/2250 [==============================] - 1s 436us/step - loss: 0.7607 - acc: 0.6289 - val_loss: 0.9618 - val_acc: 0.4853\n",
            "Epoch 36/100\n",
            "2250/2250 [==============================] - 1s 435us/step - loss: 0.7602 - acc: 0.6173 - val_loss: 0.8596 - val_acc: 0.5653\n",
            "Epoch 37/100\n",
            "2250/2250 [==============================] - 1s 435us/step - loss: 0.7587 - acc: 0.6284 - val_loss: 0.8781 - val_acc: 0.5480\n",
            "Epoch 38/100\n",
            "2250/2250 [==============================] - 1s 433us/step - loss: 0.7649 - acc: 0.6178 - val_loss: 0.8602 - val_acc: 0.5747\n",
            "Epoch 39/100\n",
            "2250/2250 [==============================] - 1s 434us/step - loss: 0.7508 - acc: 0.6298 - val_loss: 0.8551 - val_acc: 0.5853\n",
            "Epoch 40/100\n",
            "2250/2250 [==============================] - 1s 435us/step - loss: 0.7507 - acc: 0.6293 - val_loss: 0.8636 - val_acc: 0.5667\n",
            "Epoch 41/100\n",
            "2250/2250 [==============================] - 1s 429us/step - loss: 0.7488 - acc: 0.6240 - val_loss: 0.9190 - val_acc: 0.5067\n",
            "Epoch 42/100\n",
            "2250/2250 [==============================] - 1s 431us/step - loss: 0.7448 - acc: 0.6364 - val_loss: 0.8762 - val_acc: 0.5600\n",
            "Epoch 43/100\n",
            "2250/2250 [==============================] - 1s 435us/step - loss: 0.7390 - acc: 0.6364 - val_loss: 0.9026 - val_acc: 0.5227\n",
            "Epoch 44/100\n",
            "2250/2250 [==============================] - 1s 432us/step - loss: 0.7437 - acc: 0.6356 - val_loss: 0.9021 - val_acc: 0.5227\n",
            "Epoch 45/100\n",
            "2250/2250 [==============================] - 1s 433us/step - loss: 0.7361 - acc: 0.6333 - val_loss: 0.8712 - val_acc: 0.5720\n",
            "Epoch 46/100\n",
            "2250/2250 [==============================] - 1s 434us/step - loss: 0.7348 - acc: 0.6542 - val_loss: 0.8624 - val_acc: 0.5720\n",
            "Epoch 47/100\n",
            "2250/2250 [==============================] - 1s 435us/step - loss: 0.7375 - acc: 0.6320 - val_loss: 0.8798 - val_acc: 0.5467\n",
            "Epoch 48/100\n",
            "2250/2250 [==============================] - 1s 430us/step - loss: 0.7329 - acc: 0.6449 - val_loss: 0.8664 - val_acc: 0.5640\n",
            "Epoch 49/100\n",
            "2250/2250 [==============================] - 1s 431us/step - loss: 0.7325 - acc: 0.6502 - val_loss: 0.8828 - val_acc: 0.5533\n",
            "Epoch 50/100\n",
            "2250/2250 [==============================] - 1s 430us/step - loss: 0.7258 - acc: 0.6489 - val_loss: 0.9048 - val_acc: 0.5360\n",
            "Epoch 51/100\n",
            "2250/2250 [==============================] - 1s 430us/step - loss: 0.7226 - acc: 0.6516 - val_loss: 0.9500 - val_acc: 0.5413\n",
            "Epoch 52/100\n",
            "2250/2250 [==============================] - 1s 429us/step - loss: 0.7245 - acc: 0.6387 - val_loss: 0.9067 - val_acc: 0.5213\n",
            "Epoch 53/100\n",
            "2250/2250 [==============================] - 1s 432us/step - loss: 0.7158 - acc: 0.6569 - val_loss: 0.8777 - val_acc: 0.5520\n",
            "Epoch 54/100\n",
            "2250/2250 [==============================] - 1s 424us/step - loss: 0.7164 - acc: 0.6458 - val_loss: 0.8692 - val_acc: 0.5613\n",
            "Epoch 55/100\n",
            "2250/2250 [==============================] - 1s 432us/step - loss: 0.7134 - acc: 0.6627 - val_loss: 0.8933 - val_acc: 0.5533\n",
            "Epoch 56/100\n",
            "2250/2250 [==============================] - 1s 433us/step - loss: 0.7145 - acc: 0.6516 - val_loss: 0.8984 - val_acc: 0.5573\n",
            "Epoch 57/100\n",
            "2250/2250 [==============================] - 1s 437us/step - loss: 0.7049 - acc: 0.6676 - val_loss: 0.8801 - val_acc: 0.5613\n",
            "Epoch 58/100\n",
            "2250/2250 [==============================] - 1s 435us/step - loss: 0.7032 - acc: 0.6649 - val_loss: 0.8705 - val_acc: 0.5707\n",
            "Epoch 59/100\n",
            "2250/2250 [==============================] - 1s 429us/step - loss: 0.7030 - acc: 0.6582 - val_loss: 0.9258 - val_acc: 0.5413\n",
            "Epoch 60/100\n",
            "2250/2250 [==============================] - 1s 428us/step - loss: 0.6984 - acc: 0.6711 - val_loss: 0.8882 - val_acc: 0.5573\n",
            "Epoch 61/100\n",
            "2250/2250 [==============================] - 1s 425us/step - loss: 0.6986 - acc: 0.6622 - val_loss: 0.8710 - val_acc: 0.5707\n",
            "Epoch 62/100\n",
            "2250/2250 [==============================] - 1s 428us/step - loss: 0.6933 - acc: 0.6658 - val_loss: 0.9528 - val_acc: 0.5320\n",
            "Epoch 63/100\n",
            "2250/2250 [==============================] - 1s 425us/step - loss: 0.6933 - acc: 0.6769 - val_loss: 0.8906 - val_acc: 0.5560\n",
            "Epoch 64/100\n",
            "2250/2250 [==============================] - 1s 434us/step - loss: 0.6868 - acc: 0.6751 - val_loss: 0.8977 - val_acc: 0.5427\n",
            "Epoch 65/100\n",
            "2250/2250 [==============================] - 1s 435us/step - loss: 0.6907 - acc: 0.6716 - val_loss: 0.8849 - val_acc: 0.5560\n",
            "Epoch 66/100\n",
            "2250/2250 [==============================] - 1s 434us/step - loss: 0.6848 - acc: 0.6658 - val_loss: 1.2444 - val_acc: 0.4227\n",
            "Epoch 67/100\n",
            "2250/2250 [==============================] - 1s 439us/step - loss: 0.6873 - acc: 0.6684 - val_loss: 0.9139 - val_acc: 0.5360\n",
            "Epoch 68/100\n",
            "2250/2250 [==============================] - 1s 425us/step - loss: 0.6783 - acc: 0.6822 - val_loss: 0.9021 - val_acc: 0.5613\n",
            "Epoch 69/100\n",
            "2250/2250 [==============================] - 1s 434us/step - loss: 0.6860 - acc: 0.6658 - val_loss: 0.9500 - val_acc: 0.5240\n",
            "Epoch 70/100\n",
            "2250/2250 [==============================] - 1s 435us/step - loss: 0.6757 - acc: 0.6831 - val_loss: 0.9326 - val_acc: 0.5453\n",
            "Epoch 71/100\n",
            "2250/2250 [==============================] - 1s 429us/step - loss: 0.6711 - acc: 0.6831 - val_loss: 0.8796 - val_acc: 0.5680\n",
            "Epoch 72/100\n",
            "2250/2250 [==============================] - 1s 430us/step - loss: 0.6737 - acc: 0.6662 - val_loss: 0.9560 - val_acc: 0.5320\n",
            "Epoch 73/100\n",
            "2250/2250 [==============================] - 1s 428us/step - loss: 0.6680 - acc: 0.6889 - val_loss: 0.9459 - val_acc: 0.5587\n",
            "Epoch 74/100\n",
            "2250/2250 [==============================] - 1s 430us/step - loss: 0.6621 - acc: 0.6889 - val_loss: 1.0296 - val_acc: 0.5160\n",
            "Epoch 75/100\n",
            "2250/2250 [==============================] - 1s 427us/step - loss: 0.6634 - acc: 0.6867 - val_loss: 0.9345 - val_acc: 0.5240\n",
            "Epoch 76/100\n",
            "2250/2250 [==============================] - 1s 437us/step - loss: 0.6602 - acc: 0.6902 - val_loss: 0.9368 - val_acc: 0.5280\n",
            "Epoch 77/100\n",
            "2250/2250 [==============================] - 1s 424us/step - loss: 0.6593 - acc: 0.6889 - val_loss: 0.9251 - val_acc: 0.5427\n",
            "Epoch 78/100\n",
            "2250/2250 [==============================] - 1s 440us/step - loss: 0.6532 - acc: 0.6947 - val_loss: 0.8856 - val_acc: 0.5720\n",
            "Epoch 79/100\n",
            "2250/2250 [==============================] - 1s 430us/step - loss: 0.6536 - acc: 0.7022 - val_loss: 1.0300 - val_acc: 0.5293\n",
            "Epoch 80/100\n",
            "2250/2250 [==============================] - 1s 430us/step - loss: 0.6502 - acc: 0.6960 - val_loss: 0.9019 - val_acc: 0.5467\n",
            "Epoch 81/100\n",
            "2250/2250 [==============================] - 1s 428us/step - loss: 0.6460 - acc: 0.6942 - val_loss: 0.9374 - val_acc: 0.5640\n",
            "Epoch 82/100\n",
            "2250/2250 [==============================] - 1s 428us/step - loss: 0.6428 - acc: 0.7013 - val_loss: 0.9033 - val_acc: 0.5747\n",
            "Epoch 83/100\n",
            "2250/2250 [==============================] - 1s 426us/step - loss: 0.6432 - acc: 0.7107 - val_loss: 0.8903 - val_acc: 0.5627\n",
            "Epoch 84/100\n",
            "2250/2250 [==============================] - 1s 431us/step - loss: 0.6351 - acc: 0.7080 - val_loss: 1.0548 - val_acc: 0.5480\n",
            "Epoch 85/100\n",
            "2250/2250 [==============================] - 1s 430us/step - loss: 0.6352 - acc: 0.6947 - val_loss: 0.8989 - val_acc: 0.5760\n",
            "Epoch 86/100\n",
            "2250/2250 [==============================] - 1s 430us/step - loss: 0.6354 - acc: 0.7022 - val_loss: 0.9030 - val_acc: 0.5560\n",
            "Epoch 87/100\n",
            "2250/2250 [==============================] - 1s 431us/step - loss: 0.6253 - acc: 0.7156 - val_loss: 0.9369 - val_acc: 0.5533\n",
            "Epoch 88/100\n",
            "2250/2250 [==============================] - 1s 434us/step - loss: 0.6203 - acc: 0.7151 - val_loss: 0.9729 - val_acc: 0.5440\n",
            "Epoch 89/100\n",
            "2250/2250 [==============================] - 1s 434us/step - loss: 0.6182 - acc: 0.7262 - val_loss: 0.9389 - val_acc: 0.5373\n",
            "Epoch 90/100\n",
            "2250/2250 [==============================] - 1s 430us/step - loss: 0.6136 - acc: 0.7218 - val_loss: 0.9469 - val_acc: 0.5573\n",
            "Epoch 91/100\n",
            "2250/2250 [==============================] - 1s 435us/step - loss: 0.6277 - acc: 0.7098 - val_loss: 1.0801 - val_acc: 0.4880\n",
            "Epoch 92/100\n",
            "2250/2250 [==============================] - 1s 431us/step - loss: 0.6126 - acc: 0.7218 - val_loss: 0.9463 - val_acc: 0.5600\n",
            "Epoch 93/100\n",
            "2250/2250 [==============================] - 1s 434us/step - loss: 0.6111 - acc: 0.7244 - val_loss: 1.1592 - val_acc: 0.4693\n",
            "Epoch 94/100\n",
            "2250/2250 [==============================] - 1s 429us/step - loss: 0.6098 - acc: 0.7342 - val_loss: 1.2709 - val_acc: 0.4467\n",
            "Epoch 95/100\n",
            "2250/2250 [==============================] - 1s 421us/step - loss: 0.6113 - acc: 0.7213 - val_loss: 0.9432 - val_acc: 0.5373\n",
            "Epoch 96/100\n",
            "2250/2250 [==============================] - 1s 428us/step - loss: 0.5947 - acc: 0.7307 - val_loss: 0.9128 - val_acc: 0.5733\n",
            "Epoch 97/100\n",
            "2250/2250 [==============================] - 1s 431us/step - loss: 0.5992 - acc: 0.7218 - val_loss: 0.9244 - val_acc: 0.5587\n",
            "Epoch 98/100\n",
            "2250/2250 [==============================] - 1s 437us/step - loss: 0.5932 - acc: 0.7284 - val_loss: 0.9872 - val_acc: 0.5347\n",
            "Epoch 99/100\n",
            "2250/2250 [==============================] - 1s 430us/step - loss: 0.5986 - acc: 0.7258 - val_loss: 1.0303 - val_acc: 0.5107\n",
            "Epoch 100/100\n",
            "2250/2250 [==============================] - 1s 435us/step - loss: 0.5980 - acc: 0.7324 - val_loss: 0.9863 - val_acc: 0.5493\n"
          ],
          "name": "stdout"
        }
      ]
    },
    {
      "metadata": {
        "id": "YR8UqdlKW4Vr",
        "colab_type": "code",
        "colab": {}
      },
      "cell_type": "code",
      "source": [
        "predictions = model.predict(testX, batch_size=32)"
      ],
      "execution_count": 0,
      "outputs": []
    },
    {
      "metadata": {
        "id": "nkQbpjbsW4Vv",
        "colab_type": "code",
        "colab": {
          "base_uri": "https://localhost:8080/",
          "height": 161
        },
        "outputId": "f573fca2-fd7c-4c39-9a16-808a5d21b3a7"
      },
      "cell_type": "code",
      "source": [
        "print(classification_report(testY.argmax(axis = 1), predictions.argmax(axis = 1), target_names = lb.classes_))"
      ],
      "execution_count": 65,
      "outputs": [
        {
          "output_type": "stream",
          "text": [
            "             precision    recall  f1-score   support\n",
            "\n",
            "       cats       0.63      0.20      0.31       236\n",
            "       dogs       0.46      0.84      0.59       278\n",
            "      panda       0.79      0.55      0.65       236\n",
            "\n",
            "avg / total       0.62      0.55      0.52       750\n",
            "\n"
          ],
          "name": "stdout"
        }
      ]
    },
    {
      "metadata": {
        "id": "cMaPIAE4W4Vy",
        "colab_type": "code",
        "colab": {
          "base_uri": "https://localhost:8080/",
          "height": 516
        },
        "outputId": "76688f73-a781-4d23-b30a-a7c301f89993"
      },
      "cell_type": "code",
      "source": [
        "N = np.arange(0, epochs)\n",
        "plt.style.use(\"ggplot\")\n",
        "plt.figure(figsize = (10, 8))\n",
        "plt.plot(N, H.history[\"loss\"], label=\"train_loss\")\n",
        "plt.plot(N, H.history[\"val_loss\"], label=\"val_loss\")\n",
        "plt.plot(N, H.history[\"acc\"], label=\"train_acc\")\n",
        "plt.plot(N, H.history[\"val_acc\"], label=\"val_acc\")\n",
        "plt.title(\"Training Loss and Accuracy (Simple NN)\")\n",
        "plt.xlabel(\"Epoch #\")\n",
        "plt.ylabel(\"Loss/Accuracy\")\n",
        "plt.legend()\n",
        "plt.show()"
      ],
      "execution_count": 66,
      "outputs": [
        {
          "output_type": "display_data",
          "data": {
            "image/png": "[encoded data removed]",
            "text/plain": [
              "<matplotlib.figure.Figure at 0x7fdccdbc4828>"
            ]
          },
          "metadata": {
            "tags": []
          }
        }
      ]
    },
    {
      "metadata": {
        "id": "wOkexbeGW4V3",
        "colab_type": "code",
        "colab": {}
      },
      "cell_type": "code",
      "source": [
        ""
      ],
      "execution_count": 0,
      "outputs": []
    }
  ]
}